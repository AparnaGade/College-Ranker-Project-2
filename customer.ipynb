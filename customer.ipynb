{
  "nbformat": 4,
  "nbformat_minor": 0,
  "metadata": {
    "colab": {
      "name": "customer.ipynb",
      "provenance": [],
      "authorship_tag": "ABX9TyOwOucBNjkomfm+82YNr9rf",
      "include_colab_link": true
    },
    "kernelspec": {
      "name": "python3",
      "display_name": "Python 3"
    },
    "language_info": {
      "name": "python"
    }
  },
  "cells": [
    {
      "cell_type": "markdown",
      "metadata": {
        "id": "view-in-github",
        "colab_type": "text"
      },
      "source": [
        "<a href=\"https://colab.research.google.com/github/AparnaGade/College-Ranker-Project-2/blob/main/customer.ipynb\" target=\"_parent\"><img src=\"https://colab.research.google.com/assets/colab-badge.svg\" alt=\"Open In Colab\"/></a>"
      ]
    },
    {
      "cell_type": "markdown",
      "source": [
        "                                         "
      ],
      "metadata": {
        "id": "EZ0RGLJh5jlb"
      }
    },
    {
      "cell_type": "code",
      "execution_count": null,
      "metadata": {
        "id": "1J3vnh4C011g"
      },
      "outputs": [],
      "source": [
        "import numpy as np\n",
        "import pandas as pd\n",
        "import seaborn as sns\n",
        "import matplotlib.pyplot as plt"
      ]
    },
    {
      "cell_type": "markdown",
      "source": [
        "# **Task 1 : Data Loading & Exploration** "
      ],
      "metadata": {
        "id": "WZz87s-A4Nks"
      }
    },
    {
      "cell_type": "code",
      "source": [
        "df = pd.read_csv(\"/content/Customers.csv\")"
      ],
      "metadata": {
        "id": "MoBOb71f29fz"
      },
      "execution_count": null,
      "outputs": []
    },
    {
      "cell_type": "code",
      "source": [
        "df.head(5)"
      ],
      "metadata": {
        "colab": {
          "base_uri": "https://localhost:8080/",
          "height": 206
        },
        "id": "dBnZPjih3ap_",
        "outputId": "d568cc61-ebf3-4b57-b8d1-15391a3a6e6e"
      },
      "execution_count": null,
      "outputs": [
        {
          "output_type": "execute_result",
          "data": {
            "text/plain": [
              "   CustomerID   Genre  Age  Annual Income (k$)  Spending Score (1-100)\n",
              "0           1    Male   19                  15                      39\n",
              "1           2    Male   21                  15                      81\n",
              "2           3  Female   20                  16                       6\n",
              "3           4  Female   23                  16                      77\n",
              "4           5  Female   31                  17                      40"
            ],
            "text/html": [
              "\n",
              "  <div id=\"df-37e14db1-0033-41c9-b688-efc0a07a956a\">\n",
              "    <div class=\"colab-df-container\">\n",
              "      <div>\n",
              "<style scoped>\n",
              "    .dataframe tbody tr th:only-of-type {\n",
              "        vertical-align: middle;\n",
              "    }\n",
              "\n",
              "    .dataframe tbody tr th {\n",
              "        vertical-align: top;\n",
              "    }\n",
              "\n",
              "    .dataframe thead th {\n",
              "        text-align: right;\n",
              "    }\n",
              "</style>\n",
              "<table border=\"1\" class=\"dataframe\">\n",
              "  <thead>\n",
              "    <tr style=\"text-align: right;\">\n",
              "      <th></th>\n",
              "      <th>CustomerID</th>\n",
              "      <th>Genre</th>\n",
              "      <th>Age</th>\n",
              "      <th>Annual Income (k$)</th>\n",
              "      <th>Spending Score (1-100)</th>\n",
              "    </tr>\n",
              "  </thead>\n",
              "  <tbody>\n",
              "    <tr>\n",
              "      <th>0</th>\n",
              "      <td>1</td>\n",
              "      <td>Male</td>\n",
              "      <td>19</td>\n",
              "      <td>15</td>\n",
              "      <td>39</td>\n",
              "    </tr>\n",
              "    <tr>\n",
              "      <th>1</th>\n",
              "      <td>2</td>\n",
              "      <td>Male</td>\n",
              "      <td>21</td>\n",
              "      <td>15</td>\n",
              "      <td>81</td>\n",
              "    </tr>\n",
              "    <tr>\n",
              "      <th>2</th>\n",
              "      <td>3</td>\n",
              "      <td>Female</td>\n",
              "      <td>20</td>\n",
              "      <td>16</td>\n",
              "      <td>6</td>\n",
              "    </tr>\n",
              "    <tr>\n",
              "      <th>3</th>\n",
              "      <td>4</td>\n",
              "      <td>Female</td>\n",
              "      <td>23</td>\n",
              "      <td>16</td>\n",
              "      <td>77</td>\n",
              "    </tr>\n",
              "    <tr>\n",
              "      <th>4</th>\n",
              "      <td>5</td>\n",
              "      <td>Female</td>\n",
              "      <td>31</td>\n",
              "      <td>17</td>\n",
              "      <td>40</td>\n",
              "    </tr>\n",
              "  </tbody>\n",
              "</table>\n",
              "</div>\n",
              "      <button class=\"colab-df-convert\" onclick=\"convertToInteractive('df-37e14db1-0033-41c9-b688-efc0a07a956a')\"\n",
              "              title=\"Convert this dataframe to an interactive table.\"\n",
              "              style=\"display:none;\">\n",
              "        \n",
              "  <svg xmlns=\"http://www.w3.org/2000/svg\" height=\"24px\"viewBox=\"0 0 24 24\"\n",
              "       width=\"24px\">\n",
              "    <path d=\"M0 0h24v24H0V0z\" fill=\"none\"/>\n",
              "    <path d=\"M18.56 5.44l.94 2.06.94-2.06 2.06-.94-2.06-.94-.94-2.06-.94 2.06-2.06.94zm-11 1L8.5 8.5l.94-2.06 2.06-.94-2.06-.94L8.5 2.5l-.94 2.06-2.06.94zm10 10l.94 2.06.94-2.06 2.06-.94-2.06-.94-.94-2.06-.94 2.06-2.06.94z\"/><path d=\"M17.41 7.96l-1.37-1.37c-.4-.4-.92-.59-1.43-.59-.52 0-1.04.2-1.43.59L10.3 9.45l-7.72 7.72c-.78.78-.78 2.05 0 2.83L4 21.41c.39.39.9.59 1.41.59.51 0 1.02-.2 1.41-.59l7.78-7.78 2.81-2.81c.8-.78.8-2.07 0-2.86zM5.41 20L4 18.59l7.72-7.72 1.47 1.35L5.41 20z\"/>\n",
              "  </svg>\n",
              "      </button>\n",
              "      \n",
              "  <style>\n",
              "    .colab-df-container {\n",
              "      display:flex;\n",
              "      flex-wrap:wrap;\n",
              "      gap: 12px;\n",
              "    }\n",
              "\n",
              "    .colab-df-convert {\n",
              "      background-color: #E8F0FE;\n",
              "      border: none;\n",
              "      border-radius: 50%;\n",
              "      cursor: pointer;\n",
              "      display: none;\n",
              "      fill: #1967D2;\n",
              "      height: 32px;\n",
              "      padding: 0 0 0 0;\n",
              "      width: 32px;\n",
              "    }\n",
              "\n",
              "    .colab-df-convert:hover {\n",
              "      background-color: #E2EBFA;\n",
              "      box-shadow: 0px 1px 2px rgba(60, 64, 67, 0.3), 0px 1px 3px 1px rgba(60, 64, 67, 0.15);\n",
              "      fill: #174EA6;\n",
              "    }\n",
              "\n",
              "    [theme=dark] .colab-df-convert {\n",
              "      background-color: #3B4455;\n",
              "      fill: #D2E3FC;\n",
              "    }\n",
              "\n",
              "    [theme=dark] .colab-df-convert:hover {\n",
              "      background-color: #434B5C;\n",
              "      box-shadow: 0px 1px 3px 1px rgba(0, 0, 0, 0.15);\n",
              "      filter: drop-shadow(0px 1px 2px rgba(0, 0, 0, 0.3));\n",
              "      fill: #FFFFFF;\n",
              "    }\n",
              "  </style>\n",
              "\n",
              "      <script>\n",
              "        const buttonEl =\n",
              "          document.querySelector('#df-37e14db1-0033-41c9-b688-efc0a07a956a button.colab-df-convert');\n",
              "        buttonEl.style.display =\n",
              "          google.colab.kernel.accessAllowed ? 'block' : 'none';\n",
              "\n",
              "        async function convertToInteractive(key) {\n",
              "          const element = document.querySelector('#df-37e14db1-0033-41c9-b688-efc0a07a956a');\n",
              "          const dataTable =\n",
              "            await google.colab.kernel.invokeFunction('convertToInteractive',\n",
              "                                                     [key], {});\n",
              "          if (!dataTable) return;\n",
              "\n",
              "          const docLinkHtml = 'Like what you see? Visit the ' +\n",
              "            '<a target=\"_blank\" href=https://colab.research.google.com/notebooks/data_table.ipynb>data table notebook</a>'\n",
              "            + ' to learn more about interactive tables.';\n",
              "          element.innerHTML = '';\n",
              "          dataTable['output_type'] = 'display_data';\n",
              "          await google.colab.output.renderOutput(dataTable, element);\n",
              "          const docLink = document.createElement('div');\n",
              "          docLink.innerHTML = docLinkHtml;\n",
              "          element.appendChild(docLink);\n",
              "        }\n",
              "      </script>\n",
              "    </div>\n",
              "  </div>\n",
              "  "
            ]
          },
          "metadata": {},
          "execution_count": 3
        }
      ]
    },
    {
      "cell_type": "markdown",
      "source": [
        "# **Task 2 : Create Scatter Plot Between Annual Income & Spending Score**"
      ],
      "metadata": {
        "id": "EuBjymH63jy7"
      }
    },
    {
      "cell_type": "code",
      "source": [
        "plt.scatter(x='Annual Income (k$)' ,y= 'Spending Score (1-100)', data=df)\n",
        "plt.xlabel('Annual Income')\n",
        "plt.ylabel('Spending Score')\n",
        "plt.title('Annual Income vs Scor')"
      ],
      "metadata": {
        "colab": {
          "base_uri": "https://localhost:8080/",
          "height": 312
        },
        "id": "75nOntmz3gfe",
        "outputId": "c2096acd-3663-4328-b90b-8dca4707bd2c"
      },
      "execution_count": null,
      "outputs": [
        {
          "output_type": "execute_result",
          "data": {
            "text/plain": [
              "Text(0.5, 1.0, 'Annual Income vs Scor')"
            ]
          },
          "metadata": {},
          "execution_count": 5
        },
        {
          "output_type": "display_data",
          "data": {
            "text/plain": [
              "<Figure size 432x288 with 1 Axes>"
            ],
            "image/png": "[encoded data removed]"
          },
          "metadata": {
            "needs_background": "light"
          }
        }
      ]
    },
    {
      "cell_type": "markdown",
      "source": [
        "# **Task 3 : Perform Scaling using MinMaxScaler**\n",
        "\n",
        "\n",
        "\n"
      ],
      "metadata": {
        "id": "FrUmXFjP862P"
      }
    },
    {
      "cell_type": "code",
      "source": [
        "x=df.iloc[:,[2,3]]\n",
        "y=df.iloc[:,4]"
      ],
      "metadata": {
        "id": "I58d3n0L855A"
      },
      "execution_count": null,
      "outputs": []
    },
    {
      "cell_type": "code",
      "source": [
        "from sklearn.preprocessing import MinMaxScaler\n",
        "from sklearn.model_selection import train_test_split"
      ],
      "metadata": {
        "id": "3G9DqK118wE2"
      },
      "execution_count": null,
      "outputs": []
    },
    {
      "cell_type": "code",
      "source": [
        "x_train, x_test, y_train, y_test= train_test_split(x,y,random_state=50)"
      ],
      "metadata": {
        "id": "l9XwSNe2-Knh"
      },
      "execution_count": null,
      "outputs": []
    },
    {
      "cell_type": "code",
      "source": [
        "x_train.head()"
      ],
      "metadata": {
        "colab": {
          "base_uri": "https://localhost:8080/",
          "height": 206
        },
        "id": "vwRfHIjtBH0g",
        "outputId": "f2f3c4f8-0e89-41f2-e18f-809644024b47"
      },
      "execution_count": null,
      "outputs": [
        {
          "output_type": "execute_result",
          "data": {
            "text/plain": [
              "     Age  Annual Income (k$)\n",
              "1     21                  15\n",
              "116   63                  65\n",
              "100   23                  62\n",
              "166   42                  86\n",
              "168   36                  87"
            ],
            "text/html": [
              "\n",
              "  <div id=\"df-4b230338-0745-4eab-a296-ef1e20cda4f6\">\n",
              "    <div class=\"colab-df-container\">\n",
              "      <div>\n",
              "<style scoped>\n",
              "    .dataframe tbody tr th:only-of-type {\n",
              "        vertical-align: middle;\n",
              "    }\n",
              "\n",
              "    .dataframe tbody tr th {\n",
              "        vertical-align: top;\n",
              "    }\n",
              "\n",
              "    .dataframe thead th {\n",
              "        text-align: right;\n",
              "    }\n",
              "</style>\n",
              "<table border=\"1\" class=\"dataframe\">\n",
              "  <thead>\n",
              "    <tr style=\"text-align: right;\">\n",
              "      <th></th>\n",
              "      <th>Age</th>\n",
              "      <th>Annual Income (k$)</th>\n",
              "    </tr>\n",
              "  </thead>\n",
              "  <tbody>\n",
              "    <tr>\n",
              "      <th>1</th>\n",
              "      <td>21</td>\n",
              "      <td>15</td>\n",
              "    </tr>\n",
              "    <tr>\n",
              "      <th>116</th>\n",
              "      <td>63</td>\n",
              "      <td>65</td>\n",
              "    </tr>\n",
              "    <tr>\n",
              "      <th>100</th>\n",
              "      <td>23</td>\n",
              "      <td>62</td>\n",
              "    </tr>\n",
              "    <tr>\n",
              "      <th>166</th>\n",
              "      <td>42</td>\n",
              "      <td>86</td>\n",
              "    </tr>\n",
              "    <tr>\n",
              "      <th>168</th>\n",
              "      <td>36</td>\n",
              "      <td>87</td>\n",
              "    </tr>\n",
              "  </tbody>\n",
              "</table>\n",
              "</div>\n",
              "      <button class=\"colab-df-convert\" onclick=\"convertToInteractive('df-4b230338-0745-4eab-a296-ef1e20cda4f6')\"\n",
              "              title=\"Convert this dataframe to an interactive table.\"\n",
              "              style=\"display:none;\">\n",
              "        \n",
              "  <svg xmlns=\"http://www.w3.org/2000/svg\" height=\"24px\"viewBox=\"0 0 24 24\"\n",
              "       width=\"24px\">\n",
              "    <path d=\"M0 0h24v24H0V0z\" fill=\"none\"/>\n",
              "    <path d=\"M18.56 5.44l.94 2.06.94-2.06 2.06-.94-2.06-.94-.94-2.06-.94 2.06-2.06.94zm-11 1L8.5 8.5l.94-2.06 2.06-.94-2.06-.94L8.5 2.5l-.94 2.06-2.06.94zm10 10l.94 2.06.94-2.06 2.06-.94-2.06-.94-.94-2.06-.94 2.06-2.06.94z\"/><path d=\"M17.41 7.96l-1.37-1.37c-.4-.4-.92-.59-1.43-.59-.52 0-1.04.2-1.43.59L10.3 9.45l-7.72 7.72c-.78.78-.78 2.05 0 2.83L4 21.41c.39.39.9.59 1.41.59.51 0 1.02-.2 1.41-.59l7.78-7.78 2.81-2.81c.8-.78.8-2.07 0-2.86zM5.41 20L4 18.59l7.72-7.72 1.47 1.35L5.41 20z\"/>\n",
              "  </svg>\n",
              "      </button>\n",
              "      \n",
              "  <style>\n",
              "    .colab-df-container {\n",
              "      display:flex;\n",
              "      flex-wrap:wrap;\n",
              "      gap: 12px;\n",
              "    }\n",
              "\n",
              "    .colab-df-convert {\n",
              "      background-color: #E8F0FE;\n",
              "      border: none;\n",
              "      border-radius: 50%;\n",
              "      cursor: pointer;\n",
              "      display: none;\n",
              "      fill: #1967D2;\n",
              "      height: 32px;\n",
              "      padding: 0 0 0 0;\n",
              "      width: 32px;\n",
              "    }\n",
              "\n",
              "    .colab-df-convert:hover {\n",
              "      background-color: #E2EBFA;\n",
              "      box-shadow: 0px 1px 2px rgba(60, 64, 67, 0.3), 0px 1px 3px 1px rgba(60, 64, 67, 0.15);\n",
              "      fill: #174EA6;\n",
              "    }\n",
              "\n",
              "    [theme=dark] .colab-df-convert {\n",
              "      background-color: #3B4455;\n",
              "      fill: #D2E3FC;\n",
              "    }\n",
              "\n",
              "    [theme=dark] .colab-df-convert:hover {\n",
              "      background-color: #434B5C;\n",
              "      box-shadow: 0px 1px 3px 1px rgba(0, 0, 0, 0.15);\n",
              "      filter: drop-shadow(0px 1px 2px rgba(0, 0, 0, 0.3));\n",
              "      fill: #FFFFFF;\n",
              "    }\n",
              "  </style>\n",
              "\n",
              "      <script>\n",
              "        const buttonEl =\n",
              "          document.querySelector('#df-4b230338-0745-4eab-a296-ef1e20cda4f6 button.colab-df-convert');\n",
              "        buttonEl.style.display =\n",
              "          google.colab.kernel.accessAllowed ? 'block' : 'none';\n",
              "\n",
              "        async function convertToInteractive(key) {\n",
              "          const element = document.querySelector('#df-4b230338-0745-4eab-a296-ef1e20cda4f6');\n",
              "          const dataTable =\n",
              "            await google.colab.kernel.invokeFunction('convertToInteractive',\n",
              "                                                     [key], {});\n",
              "          if (!dataTable) return;\n",
              "\n",
              "          const docLinkHtml = 'Like what you see? Visit the ' +\n",
              "            '<a target=\"_blank\" href=https://colab.research.google.com/notebooks/data_table.ipynb>data table notebook</a>'\n",
              "            + ' to learn more about interactive tables.';\n",
              "          element.innerHTML = '';\n",
              "          dataTable['output_type'] = 'display_data';\n",
              "          await google.colab.output.renderOutput(dataTable, element);\n",
              "          const docLink = document.createElement('div');\n",
              "          docLink.innerHTML = docLinkHtml;\n",
              "          element.appendChild(docLink);\n",
              "        }\n",
              "      </script>\n",
              "    </div>\n",
              "  </div>\n",
              "  "
            ]
          },
          "metadata": {},
          "execution_count": 23
        }
      ]
    },
    {
      "cell_type": "code",
      "source": [
        "scaler = MinMaxScaler().fit(x_train)\n",
        "print(scaler)"
      ],
      "metadata": {
        "colab": {
          "base_uri": "https://localhost:8080/"
        },
        "id": "bKqzsZt-BLfe",
        "outputId": "cb61dea3-0c22-4d16-90ac-45b81c0e530d"
      },
      "execution_count": null,
      "outputs": [
        {
          "output_type": "stream",
          "name": "stdout",
          "text": [
            "MinMaxScaler()\n"
          ]
        }
      ]
    },
    {
      "cell_type": "code",
      "source": [
        "scaler.data_min_"
      ],
      "metadata": {
        "colab": {
          "base_uri": "https://localhost:8080/"
        },
        "id": "P7TJgO7QBqca",
        "outputId": "948f9b3b-6328-4337-9f4d-f2c8ce1a4253"
      },
      "execution_count": null,
      "outputs": [
        {
          "output_type": "execute_result",
          "data": {
            "text/plain": [
              "array([18., 15.])"
            ]
          },
          "metadata": {},
          "execution_count": 25
        }
      ]
    },
    {
      "cell_type": "code",
      "source": [
        "scaler.data_max_"
      ],
      "metadata": {
        "colab": {
          "base_uri": "https://localhost:8080/"
        },
        "id": "RQNRCgKcB0L4",
        "outputId": "604a3a9c-c418-48f9-9035-2119d09e7442"
      },
      "execution_count": null,
      "outputs": [
        {
          "output_type": "execute_result",
          "data": {
            "text/plain": [
              "array([ 70., 137.])"
            ]
          },
          "metadata": {},
          "execution_count": 26
        }
      ]
    },
    {
      "cell_type": "code",
      "source": [
        "x_train.describe()"
      ],
      "metadata": {
        "colab": {
          "base_uri": "https://localhost:8080/",
          "height": 300
        },
        "id": "Ub8kB8MIB9us",
        "outputId": "d0da7b5d-39e4-4eb7-e6d5-edca88f51018"
      },
      "execution_count": null,
      "outputs": [
        {
          "output_type": "execute_result",
          "data": {
            "text/plain": [
              "              Age  Annual Income (k$)\n",
              "count  150.000000           150.00000\n",
              "mean    38.640000            59.80000\n",
              "std     14.444655            26.44305\n",
              "min     18.000000            15.00000\n",
              "25%     27.250000            40.00000\n",
              "50%     35.500000            60.50000\n",
              "75%     48.000000            77.00000\n",
              "max     70.000000           137.00000"
            ],
            "text/html": [
              "\n",
              "  <div id=\"df-f1875d0d-60b5-4d56-9afc-95008ed72276\">\n",
              "    <div class=\"colab-df-container\">\n",
              "      <div>\n",
              "<style scoped>\n",
              "    .dataframe tbody tr th:only-of-type {\n",
              "        vertical-align: middle;\n",
              "    }\n",
              "\n",
              "    .dataframe tbody tr th {\n",
              "        vertical-align: top;\n",
              "    }\n",
              "\n",
              "    .dataframe thead th {\n",
              "        text-align: right;\n",
              "    }\n",
              "</style>\n",
              "<table border=\"1\" class=\"dataframe\">\n",
              "  <thead>\n",
              "    <tr style=\"text-align: right;\">\n",
              "      <th></th>\n",
              "      <th>Age</th>\n",
              "      <th>Annual Income (k$)</th>\n",
              "    </tr>\n",
              "  </thead>\n",
              "  <tbody>\n",
              "    <tr>\n",
              "      <th>count</th>\n",
              "      <td>150.000000</td>\n",
              "      <td>150.00000</td>\n",
              "    </tr>\n",
              "    <tr>\n",
              "      <th>mean</th>\n",
              "      <td>38.640000</td>\n",
              "      <td>59.80000</td>\n",
              "    </tr>\n",
              "    <tr>\n",
              "      <th>std</th>\n",
              "      <td>14.444655</td>\n",
              "      <td>26.44305</td>\n",
              "    </tr>\n",
              "    <tr>\n",
              "      <th>min</th>\n",
              "      <td>18.000000</td>\n",
              "      <td>15.00000</td>\n",
              "    </tr>\n",
              "    <tr>\n",
              "      <th>25%</th>\n",
              "      <td>27.250000</td>\n",
              "      <td>40.00000</td>\n",
              "    </tr>\n",
              "    <tr>\n",
              "      <th>50%</th>\n",
              "      <td>35.500000</td>\n",
              "      <td>60.50000</td>\n",
              "    </tr>\n",
              "    <tr>\n",
              "      <th>75%</th>\n",
              "      <td>48.000000</td>\n",
              "      <td>77.00000</td>\n",
              "    </tr>\n",
              "    <tr>\n",
              "      <th>max</th>\n",
              "      <td>70.000000</td>\n",
              "      <td>137.00000</td>\n",
              "    </tr>\n",
              "  </tbody>\n",
              "</table>\n",
              "</div>\n",
              "      <button class=\"colab-df-convert\" onclick=\"convertToInteractive('df-f1875d0d-60b5-4d56-9afc-95008ed72276')\"\n",
              "              title=\"Convert this dataframe to an interactive table.\"\n",
              "              style=\"display:none;\">\n",
              "        \n",
              "  <svg xmlns=\"http://www.w3.org/2000/svg\" height=\"24px\"viewBox=\"0 0 24 24\"\n",
              "       width=\"24px\">\n",
              "    <path d=\"M0 0h24v24H0V0z\" fill=\"none\"/>\n",
              "    <path d=\"M18.56 5.44l.94 2.06.94-2.06 2.06-.94-2.06-.94-.94-2.06-.94 2.06-2.06.94zm-11 1L8.5 8.5l.94-2.06 2.06-.94-2.06-.94L8.5 2.5l-.94 2.06-2.06.94zm10 10l.94 2.06.94-2.06 2.06-.94-2.06-.94-.94-2.06-.94 2.06-2.06.94z\"/><path d=\"M17.41 7.96l-1.37-1.37c-.4-.4-.92-.59-1.43-.59-.52 0-1.04.2-1.43.59L10.3 9.45l-7.72 7.72c-.78.78-.78 2.05 0 2.83L4 21.41c.39.39.9.59 1.41.59.51 0 1.02-.2 1.41-.59l7.78-7.78 2.81-2.81c.8-.78.8-2.07 0-2.86zM5.41 20L4 18.59l7.72-7.72 1.47 1.35L5.41 20z\"/>\n",
              "  </svg>\n",
              "      </button>\n",
              "      \n",
              "  <style>\n",
              "    .colab-df-container {\n",
              "      display:flex;\n",
              "      flex-wrap:wrap;\n",
              "      gap: 12px;\n",
              "    }\n",
              "\n",
              "    .colab-df-convert {\n",
              "      background-color: #E8F0FE;\n",
              "      border: none;\n",
              "      border-radius: 50%;\n",
              "      cursor: pointer;\n",
              "      display: none;\n",
              "      fill: #1967D2;\n",
              "      height: 32px;\n",
              "      padding: 0 0 0 0;\n",
              "      width: 32px;\n",
              "    }\n",
              "\n",
              "    .colab-df-convert:hover {\n",
              "      background-color: #E2EBFA;\n",
              "      box-shadow: 0px 1px 2px rgba(60, 64, 67, 0.3), 0px 1px 3px 1px rgba(60, 64, 67, 0.15);\n",
              "      fill: #174EA6;\n",
              "    }\n",
              "\n",
              "    [theme=dark] .colab-df-convert {\n",
              "      background-color: #3B4455;\n",
              "      fill: #D2E3FC;\n",
              "    }\n",
              "\n",
              "    [theme=dark] .colab-df-convert:hover {\n",
              "      background-color: #434B5C;\n",
              "      box-shadow: 0px 1px 3px 1px rgba(0, 0, 0, 0.15);\n",
              "      filter: drop-shadow(0px 1px 2px rgba(0, 0, 0, 0.3));\n",
              "      fill: #FFFFFF;\n",
              "    }\n",
              "  </style>\n",
              "\n",
              "      <script>\n",
              "        const buttonEl =\n",
              "          document.querySelector('#df-f1875d0d-60b5-4d56-9afc-95008ed72276 button.colab-df-convert');\n",
              "        buttonEl.style.display =\n",
              "          google.colab.kernel.accessAllowed ? 'block' : 'none';\n",
              "\n",
              "        async function convertToInteractive(key) {\n",
              "          const element = document.querySelector('#df-f1875d0d-60b5-4d56-9afc-95008ed72276');\n",
              "          const dataTable =\n",
              "            await google.colab.kernel.invokeFunction('convertToInteractive',\n",
              "                                                     [key], {});\n",
              "          if (!dataTable) return;\n",
              "\n",
              "          const docLinkHtml = 'Like what you see? Visit the ' +\n",
              "            '<a target=\"_blank\" href=https://colab.research.google.com/notebooks/data_table.ipynb>data table notebook</a>'\n",
              "            + ' to learn more about interactive tables.';\n",
              "          element.innerHTML = '';\n",
              "          dataTable['output_type'] = 'display_data';\n",
              "          await google.colab.output.renderOutput(dataTable, element);\n",
              "          const docLink = document.createElement('div');\n",
              "          docLink.innerHTML = docLinkHtml;\n",
              "          element.appendChild(docLink);\n",
              "        }\n",
              "      </script>\n",
              "    </div>\n",
              "  </div>\n",
              "  "
            ]
          },
          "metadata": {},
          "execution_count": 27
        }
      ]
    },
    {
      "cell_type": "code",
      "source": [
        "scaler.feature_range"
      ],
      "metadata": {
        "colab": {
          "base_uri": "https://localhost:8080/"
        },
        "id": "sjFS6W8gCFam",
        "outputId": "3d990833-96e6-48e0-a136-8f9f56bf2f94"
      },
      "execution_count": null,
      "outputs": [
        {
          "output_type": "execute_result",
          "data": {
            "text/plain": [
              "(0, 1)"
            ]
          },
          "metadata": {},
          "execution_count": 28
        }
      ]
    },
    {
      "cell_type": "code",
      "source": [
        "scaler.transform(x_train)"
      ],
      "metadata": {
        "colab": {
          "base_uri": "https://localhost:8080/"
        },
        "id": "gIZIuf0qCMxU",
        "outputId": "2b803b03-0625-4870-dcd0-aef1a4d5258d"
      },
      "execution_count": null,
      "outputs": [
        {
          "output_type": "execute_result",
          "data": {
            "text/plain": [
              "array([[0.05769231, 0.        ],\n",
              "       [0.86538462, 0.40983607],\n",
              "       [0.09615385, 0.3852459 ],\n",
              "       [0.46153846, 0.58196721],\n",
              "       [0.34615385, 0.59016393],\n",
              "       [0.21153846, 0.20491803],\n",
              "       [0.78846154, 0.63934426],\n",
              "       [0.96153846, 0.39344262],\n",
              "       [0.01923077, 0.25409836],\n",
              "       [0.32692308, 0.04918033],\n",
              "       [0.        , 0.40983607],\n",
              "       [0.19230769, 0.70491803],\n",
              "       [0.51923077, 0.31967213],\n",
              "       [0.42307692, 0.44262295],\n",
              "       [0.19230769, 0.5       ],\n",
              "       [0.98076923, 0.23770492],\n",
              "       [0.21153846, 0.52459016],\n",
              "       [0.78846154, 0.31967213],\n",
              "       [0.63461538, 0.42622951],\n",
              "       [0.26923077, 0.72131148],\n",
              "       [0.36538462, 0.51639344],\n",
              "       [0.42307692, 0.31967213],\n",
              "       [0.36538462, 0.04098361],\n",
              "       [0.51923077, 0.90983607],\n",
              "       [0.61538462, 0.42622951],\n",
              "       [0.42307692, 0.45901639],\n",
              "       [0.17307692, 0.51639344],\n",
              "       [0.28846154, 0.80327869],\n",
              "       [0.15384615, 0.3852459 ],\n",
              "       [0.38461538, 0.80327869],\n",
              "       [0.01923077, 0.54098361],\n",
              "       [0.57692308, 0.37704918],\n",
              "       [0.13461538, 0.07377049],\n",
              "       [0.09615385, 0.00819672],\n",
              "       [0.61538462, 0.57377049],\n",
              "       [0.34615385, 0.72131148],\n",
              "       [0.34615385, 0.59016393],\n",
              "       [0.32692308, 0.86065574],\n",
              "       [0.11538462, 0.18852459],\n",
              "       [0.09615385, 0.02459016],\n",
              "       [0.67307692, 0.25409836],\n",
              "       [0.53846154, 0.68032787],\n",
              "       [0.01923077, 0.40163934],\n",
              "       [0.32692308, 0.03278689],\n",
              "       [0.61538462, 0.20491803],\n",
              "       [0.80769231, 0.28688525],\n",
              "       [0.96153846, 0.36065574],\n",
              "       [0.03846154, 0.04918033],\n",
              "       [0.57692308, 0.19672131],\n",
              "       [0.65384615, 0.06557377],\n",
              "       [0.48076923, 0.45901639],\n",
              "       [0.01923077, 0.2704918 ],\n",
              "       [0.21153846, 0.47540984],\n",
              "       [0.63461538, 0.23770492],\n",
              "       [0.55769231, 0.2295082 ],\n",
              "       [0.75      , 0.49180328],\n",
              "       [0.07692308, 0.01639344],\n",
              "       [0.07692308, 0.04098361],\n",
              "       [0.17307692, 0.42622951],\n",
              "       [0.32692308, 0.63934426],\n",
              "       [0.42307692, 0.1147541 ],\n",
              "       [0.19230769, 0.50819672],\n",
              "       [0.59615385, 0.22131148],\n",
              "       [0.32692308, 0.10655738],\n",
              "       [0.94230769, 0.3852459 ],\n",
              "       [0.05769231, 0.14754098],\n",
              "       [0.09615385, 0.45081967],\n",
              "       [0.26923077, 0.5       ],\n",
              "       [0.48076923, 0.51639344],\n",
              "       [0.80769231, 0.12295082],\n",
              "       [0.59615385, 0.3852459 ],\n",
              "       [0.23076923, 0.1557377 ],\n",
              "       [0.55769231, 0.36885246],\n",
              "       [0.5       , 0.47540984],\n",
              "       [0.57692308, 0.50819672],\n",
              "       [0.71153846, 0.3442623 ],\n",
              "       [0.25      , 0.01639344],\n",
              "       [0.09615385, 0.31967213],\n",
              "       [0.78846154, 0.2295082 ],\n",
              "       [0.59615385, 0.19672131],\n",
              "       [0.26923077, 0.67213115],\n",
              "       [0.05769231, 0.31967213],\n",
              "       [0.        , 0.2704918 ],\n",
              "       [0.34615385, 0.59016393],\n",
              "       [0.23076923, 0.68852459],\n",
              "       [0.17307692, 0.20491803],\n",
              "       [0.32692308, 0.06557377],\n",
              "       [0.67307692, 0.14754098],\n",
              "       [0.07692308, 0.3442623 ],\n",
              "       [0.59615385, 0.3852459 ],\n",
              "       [0.25      , 0.2295082 ],\n",
              "       [0.09615385, 0.1147541 ],\n",
              "       [0.23076923, 0.03278689],\n",
              "       [0.38461538, 0.45901639],\n",
              "       [0.11538462, 0.19672131],\n",
              "       [0.17307692, 0.25409836],\n",
              "       [0.36538462, 0.67213115],\n",
              "       [0.78846154, 0.45901639],\n",
              "       [0.46153846, 0.1557377 ],\n",
              "       [0.26923077, 0.49180328],\n",
              "       [0.94230769, 0.26229508],\n",
              "       [0.44230769, 0.68852459],\n",
              "       [0.28846154, 0.22131148],\n",
              "       [0.44230769, 0.72131148],\n",
              "       [0.26923077, 1.        ],\n",
              "       [0.23076923, 0.59836066],\n",
              "       [0.26923077, 0.36885246],\n",
              "       [0.42307692, 0.36885246],\n",
              "       [0.01923077, 0.        ],\n",
              "       [0.90384615, 0.39344262],\n",
              "       [0.94230769, 0.03278689],\n",
              "       [0.19230769, 0.59016393],\n",
              "       [0.96153846, 0.2704918 ],\n",
              "       [0.48076923, 0.2704918 ],\n",
              "       [0.01923077, 0.40983607],\n",
              "       [1.        , 0.25409836],\n",
              "       [0.51923077, 0.10655738],\n",
              "       [0.69230769, 0.70491803],\n",
              "       [0.05769231, 0.3852459 ],\n",
              "       [0.30769231, 0.51639344],\n",
              "       [0.59615385, 0.31967213],\n",
              "       [0.55769231, 0.45901639],\n",
              "       [0.26923077, 0.50819672],\n",
              "       [0.32692308, 0.02459016],\n",
              "       [0.86538462, 0.2704918 ],\n",
              "       [0.26923077, 0.59016393],\n",
              "       [0.92307692, 0.39344262],\n",
              "       [0.57692308, 0.31967213],\n",
              "       [0.25      , 0.20491803],\n",
              "       [0.05769231, 0.12295082],\n",
              "       [0.25      , 0.19672131],\n",
              "       [0.30769231, 0.51639344],\n",
              "       [0.03846154, 0.47540984],\n",
              "       [0.55769231, 0.51639344],\n",
              "       [0.        , 0.36065574],\n",
              "       [0.57692308, 0.36885246],\n",
              "       [0.25      , 0.54098361],\n",
              "       [0.01923077, 0.39344262],\n",
              "       [0.55769231, 0.27868852],\n",
              "       [0.11538462, 0.36885246],\n",
              "       [0.03846154, 0.00819672],\n",
              "       [0.25      , 0.46721311],\n",
              "       [0.53846154, 0.08196721],\n",
              "       [0.55769231, 0.86065574],\n",
              "       [1.        , 0.27868852],\n",
              "       [0.13461538, 0.46721311],\n",
              "       [0.        , 0.14754098],\n",
              "       [0.92307692, 0.39344262],\n",
              "       [0.32692308, 0.48360656],\n",
              "       [0.76923077, 0.59836066]])"
            ]
          },
          "metadata": {},
          "execution_count": 29
        }
      ]
    },
    {
      "cell_type": "code",
      "source": [
        "scaler = MinMaxScaler().fit(x_test)"
      ],
      "metadata": {
        "id": "jjmkp9tuCURt"
      },
      "execution_count": null,
      "outputs": []
    },
    {
      "cell_type": "code",
      "source": [
        "print(scaler)"
      ],
      "metadata": {
        "colab": {
          "base_uri": "https://localhost:8080/"
        },
        "id": "PKIrI7SICjpM",
        "outputId": "86a524d6-f78c-4b20-dc2a-c4dadff2d309"
      },
      "execution_count": null,
      "outputs": [
        {
          "output_type": "stream",
          "name": "stdout",
          "text": [
            "MinMaxScaler()\n"
          ]
        }
      ]
    },
    {
      "cell_type": "code",
      "source": [
        "scaler.data_min_"
      ],
      "metadata": {
        "colab": {
          "base_uri": "https://localhost:8080/"
        },
        "id": "NwaWTdvmCpdO",
        "outputId": "57792d98-17e2-4e2a-e844-273e45274200"
      },
      "execution_count": null,
      "outputs": [
        {
          "output_type": "execute_result",
          "data": {
            "text/plain": [
              "array([19., 19.])"
            ]
          },
          "metadata": {},
          "execution_count": 32
        }
      ]
    },
    {
      "cell_type": "code",
      "source": [
        "scaler.data_max_\n"
      ],
      "metadata": {
        "colab": {
          "base_uri": "https://localhost:8080/"
        },
        "id": "jm326vcrC2Av",
        "outputId": "f410e16a-373f-48c2-ad32-b7f700f54d85"
      },
      "execution_count": null,
      "outputs": [
        {
          "output_type": "execute_result",
          "data": {
            "text/plain": [
              "array([ 67., 137.])"
            ]
          },
          "metadata": {},
          "execution_count": 33
        }
      ]
    },
    {
      "cell_type": "code",
      "source": [
        "scaler.feature_range"
      ],
      "metadata": {
        "colab": {
          "base_uri": "https://localhost:8080/"
        },
        "id": "JCJqCwamC50b",
        "outputId": "6aa11302-a96f-4032-c366-3ce50021708c"
      },
      "execution_count": null,
      "outputs": [
        {
          "output_type": "execute_result",
          "data": {
            "text/plain": [
              "(0, 1)"
            ]
          },
          "metadata": {},
          "execution_count": 34
        }
      ]
    },
    {
      "cell_type": "code",
      "source": [
        "x_test.describe()"
      ],
      "metadata": {
        "colab": {
          "base_uri": "https://localhost:8080/",
          "height": 300
        },
        "id": "Vv_ubUVtDAgn",
        "outputId": "0de8595c-6a8c-454b-df63-5d6771269385"
      },
      "execution_count": null,
      "outputs": [
        {
          "output_type": "execute_result",
          "data": {
            "text/plain": [
              "             Age  Annual Income (k$)\n",
              "count  50.000000           50.000000\n",
              "mean   39.480000           62.840000\n",
              "std    12.549071           25.850717\n",
              "min    19.000000           19.000000\n",
              "25%    30.250000           47.250000\n",
              "50%    37.000000           63.500000\n",
              "75%    49.750000           78.000000\n",
              "max    67.000000          137.000000"
            ],
            "text/html": [
              "\n",
              "  <div id=\"df-b218d8b8-a55b-4e09-af66-4be529221a22\">\n",
              "    <div class=\"colab-df-container\">\n",
              "      <div>\n",
              "<style scoped>\n",
              "    .dataframe tbody tr th:only-of-type {\n",
              "        vertical-align: middle;\n",
              "    }\n",
              "\n",
              "    .dataframe tbody tr th {\n",
              "        vertical-align: top;\n",
              "    }\n",
              "\n",
              "    .dataframe thead th {\n",
              "        text-align: right;\n",
              "    }\n",
              "</style>\n",
              "<table border=\"1\" class=\"dataframe\">\n",
              "  <thead>\n",
              "    <tr style=\"text-align: right;\">\n",
              "      <th></th>\n",
              "      <th>Age</th>\n",
              "      <th>Annual Income (k$)</th>\n",
              "    </tr>\n",
              "  </thead>\n",
              "  <tbody>\n",
              "    <tr>\n",
              "      <th>count</th>\n",
              "      <td>50.000000</td>\n",
              "      <td>50.000000</td>\n",
              "    </tr>\n",
              "    <tr>\n",
              "      <th>mean</th>\n",
              "      <td>39.480000</td>\n",
              "      <td>62.840000</td>\n",
              "    </tr>\n",
              "    <tr>\n",
              "      <th>std</th>\n",
              "      <td>12.549071</td>\n",
              "      <td>25.850717</td>\n",
              "    </tr>\n",
              "    <tr>\n",
              "      <th>min</th>\n",
              "      <td>19.000000</td>\n",
              "      <td>19.000000</td>\n",
              "    </tr>\n",
              "    <tr>\n",
              "      <th>25%</th>\n",
              "      <td>30.250000</td>\n",
              "      <td>47.250000</td>\n",
              "    </tr>\n",
              "    <tr>\n",
              "      <th>50%</th>\n",
              "      <td>37.000000</td>\n",
              "      <td>63.500000</td>\n",
              "    </tr>\n",
              "    <tr>\n",
              "      <th>75%</th>\n",
              "      <td>49.750000</td>\n",
              "      <td>78.000000</td>\n",
              "    </tr>\n",
              "    <tr>\n",
              "      <th>max</th>\n",
              "      <td>67.000000</td>\n",
              "      <td>137.000000</td>\n",
              "    </tr>\n",
              "  </tbody>\n",
              "</table>\n",
              "</div>\n",
              "      <button class=\"colab-df-convert\" onclick=\"convertToInteractive('df-b218d8b8-a55b-4e09-af66-4be529221a22')\"\n",
              "              title=\"Convert this dataframe to an interactive table.\"\n",
              "              style=\"display:none;\">\n",
              "        \n",
              "  <svg xmlns=\"http://www.w3.org/2000/svg\" height=\"24px\"viewBox=\"0 0 24 24\"\n",
              "       width=\"24px\">\n",
              "    <path d=\"M0 0h24v24H0V0z\" fill=\"none\"/>\n",
              "    <path d=\"M18.56 5.44l.94 2.06.94-2.06 2.06-.94-2.06-.94-.94-2.06-.94 2.06-2.06.94zm-11 1L8.5 8.5l.94-2.06 2.06-.94-2.06-.94L8.5 2.5l-.94 2.06-2.06.94zm10 10l.94 2.06.94-2.06 2.06-.94-2.06-.94-.94-2.06-.94 2.06-2.06.94z\"/><path d=\"M17.41 7.96l-1.37-1.37c-.4-.4-.92-.59-1.43-.59-.52 0-1.04.2-1.43.59L10.3 9.45l-7.72 7.72c-.78.78-.78 2.05 0 2.83L4 21.41c.39.39.9.59 1.41.59.51 0 1.02-.2 1.41-.59l7.78-7.78 2.81-2.81c.8-.78.8-2.07 0-2.86zM5.41 20L4 18.59l7.72-7.72 1.47 1.35L5.41 20z\"/>\n",
              "  </svg>\n",
              "      </button>\n",
              "      \n",
              "  <style>\n",
              "    .colab-df-container {\n",
              "      display:flex;\n",
              "      flex-wrap:wrap;\n",
              "      gap: 12px;\n",
              "    }\n",
              "\n",
              "    .colab-df-convert {\n",
              "      background-color: #E8F0FE;\n",
              "      border: none;\n",
              "      border-radius: 50%;\n",
              "      cursor: pointer;\n",
              "      display: none;\n",
              "      fill: #1967D2;\n",
              "      height: 32px;\n",
              "      padding: 0 0 0 0;\n",
              "      width: 32px;\n",
              "    }\n",
              "\n",
              "    .colab-df-convert:hover {\n",
              "      background-color: #E2EBFA;\n",
              "      box-shadow: 0px 1px 2px rgba(60, 64, 67, 0.3), 0px 1px 3px 1px rgba(60, 64, 67, 0.15);\n",
              "      fill: #174EA6;\n",
              "    }\n",
              "\n",
              "    [theme=dark] .colab-df-convert {\n",
              "      background-color: #3B4455;\n",
              "      fill: #D2E3FC;\n",
              "    }\n",
              "\n",
              "    [theme=dark] .colab-df-convert:hover {\n",
              "      background-color: #434B5C;\n",
              "      box-shadow: 0px 1px 3px 1px rgba(0, 0, 0, 0.15);\n",
              "      filter: drop-shadow(0px 1px 2px rgba(0, 0, 0, 0.3));\n",
              "      fill: #FFFFFF;\n",
              "    }\n",
              "  </style>\n",
              "\n",
              "      <script>\n",
              "        const buttonEl =\n",
              "          document.querySelector('#df-b218d8b8-a55b-4e09-af66-4be529221a22 button.colab-df-convert');\n",
              "        buttonEl.style.display =\n",
              "          google.colab.kernel.accessAllowed ? 'block' : 'none';\n",
              "\n",
              "        async function convertToInteractive(key) {\n",
              "          const element = document.querySelector('#df-b218d8b8-a55b-4e09-af66-4be529221a22');\n",
              "          const dataTable =\n",
              "            await google.colab.kernel.invokeFunction('convertToInteractive',\n",
              "                                                     [key], {});\n",
              "          if (!dataTable) return;\n",
              "\n",
              "          const docLinkHtml = 'Like what you see? Visit the ' +\n",
              "            '<a target=\"_blank\" href=https://colab.research.google.com/notebooks/data_table.ipynb>data table notebook</a>'\n",
              "            + ' to learn more about interactive tables.';\n",
              "          element.innerHTML = '';\n",
              "          dataTable['output_type'] = 'display_data';\n",
              "          await google.colab.output.renderOutput(dataTable, element);\n",
              "          const docLink = document.createElement('div');\n",
              "          docLink.innerHTML = docLinkHtml;\n",
              "          element.appendChild(docLink);\n",
              "        }\n",
              "      </script>\n",
              "    </div>\n",
              "  </div>\n",
              "  "
            ]
          },
          "metadata": {},
          "execution_count": 35
        }
      ]
    },
    {
      "cell_type": "code",
      "source": [
        "scaler.transform(x_test)"
      ],
      "metadata": {
        "colab": {
          "base_uri": "https://localhost:8080/"
        },
        "id": "bOS6bV3lDFnW",
        "outputId": "c942ff0c-5047-4259-98c3-23d692790595"
      },
      "execution_count": null,
      "outputs": [
        {
          "output_type": "execute_result",
          "data": {
            "text/plain": [
              "array([[0.39583333, 0.38135593],\n",
              "       [0.35416667, 0.55932203],\n",
              "       [0.8125    , 0.00847458],\n",
              "       [0.85416667, 0.26271186],\n",
              "       [0.125     , 0.49152542],\n",
              "       [0.33333333, 0.04237288],\n",
              "       [0.22916667, 1.        ],\n",
              "       [0.9375    , 0.        ],\n",
              "       [0.02083333, 0.15254237],\n",
              "       [0.3125    , 0.33050847],\n",
              "       [0.39583333, 0.29661017],\n",
              "       [0.27083333, 0.90677966],\n",
              "       [0.27083333, 0.24576271],\n",
              "       [0.77083333, 0.50847458],\n",
              "       [0.20833333, 0.07627119],\n",
              "       [0.02083333, 0.3559322 ],\n",
              "       [0.41666667, 0.5       ],\n",
              "       [0.25      , 0.05084746],\n",
              "       [0.        , 0.46610169],\n",
              "       [0.22916667, 0.5       ],\n",
              "       [0.64583333, 0.33050847],\n",
              "       [1.        , 0.29661017],\n",
              "       [0.72916667, 0.07627119],\n",
              "       [0.6875    , 0.58474576],\n",
              "       [0.27083333, 0.45762712],\n",
              "       [0.5625    , 0.29661017],\n",
              "       [0.72916667, 0.37288136],\n",
              "       [0.625     , 0.11864407],\n",
              "       [0.16666667, 0.34745763],\n",
              "       [0.29166667, 0.56779661],\n",
              "       [0.41666667, 0.42372881],\n",
              "       [0.22916667, 0.5       ],\n",
              "       [0.14583333, 0.29661017],\n",
              "       [0.52083333, 0.5       ],\n",
              "       [0.625     , 0.38983051],\n",
              "       [0.3125    , 0.5       ],\n",
              "       [0.72916667, 0.23728814],\n",
              "       [0.64583333, 0.20338983],\n",
              "       [0.25      , 0.43220339],\n",
              "       [0.79166667, 0.29661017],\n",
              "       [0.4375    , 0.57627119],\n",
              "       [0.20833333, 0.66949153],\n",
              "       [0.35416667, 0.15254237],\n",
              "       [0.39583333, 0.5       ],\n",
              "       [0.95833333, 0.16101695],\n",
              "       [0.3125    , 0.71186441],\n",
              "       [0.16666667, 0.58474576],\n",
              "       [0.41666667, 0.44067797],\n",
              "       [0.10416667, 0.00847458],\n",
              "       [0.39583333, 0.40677966]])"
            ]
          },
          "metadata": {},
          "execution_count": 37
        }
      ]
    }
  ]
}